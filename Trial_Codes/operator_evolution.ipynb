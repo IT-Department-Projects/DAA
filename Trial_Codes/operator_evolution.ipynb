{
 "cells": [
  {
   "cell_type": "code",
   "execution_count": 1,
   "metadata": {
    "collapsed": true
   },
   "outputs": [],
   "source": [
    "from operator import itemgetter, attrgetter\n",
    "import random\n",
    "import sys\n",
    "import os\n",
    "import math\n",
    "import re"
   ]
  },
  {
   "cell_type": "code",
   "execution_count": 2,
   "metadata": {
    "collapsed": true
   },
   "outputs": [],
   "source": [
    "genetic_code = {\n",
    "  '0000':'0',\n",
    "  '0001':'1',\n",
    "  '0010':'2',\n",
    "  '0011':'3',\n",
    "  '0100':'4',\n",
    "  '0101':'5',\n",
    "  '0110':'6',\n",
    "  '0111':'7',\n",
    "  '1000':'8',\n",
    "  '1001':'9',\n",
    "  '1010':'+',\n",
    "  '1011':'-',\n",
    "  '1100':'*',\n",
    "  '1101':'/'\n",
    "  }"
   ]
  },
  {
   "cell_type": "code",
   "execution_count": 3,
   "metadata": {
    "collapsed": true
   },
   "outputs": [],
   "source": [
    "solution_found = False\n",
    "popN = 100 # n number of chromos per population\n",
    "genesPerCh = 75\n",
    "max_iterations = 1000\n",
    "target = 1111.0\n",
    "crossover_rate = 0.7\n",
    "mutation_rate = 0.05"
   ]
  },
  {
   "cell_type": "code",
   "execution_count": 4,
   "metadata": {
    "collapsed": true
   },
   "outputs": [],
   "source": [
    "\"\"\"Generates random population of chromos\"\"\"\n",
    "def generatePop ():\n",
    "  chromos, chromo = [], []\n",
    "  for eachChromo in range(popN):\n",
    "    chromo = []\n",
    "    for bit in range(genesPerCh * 4):\n",
    "      chromo.append(random.randint(0,1))\n",
    "    chromos.append(chromo)\n",
    "  return chromos"
   ]
  },
  {
   "cell_type": "code",
   "execution_count": 5,
   "metadata": {
    "collapsed": true
   },
   "outputs": [],
   "source": [
    "\"\"\"Takes a binary list (chromo) and returns a protein (mathematical expression in string)\"\"\"\n",
    "def translate (chromo):\n",
    "  protein, chromo_string = '',''\n",
    "  need_int = True\n",
    "  a, b = 0, 4 # ie from point a to point b (start to stop point in string)\n",
    "  for bit in chromo:\n",
    "    chromo_string += str(bit)\n",
    "  for gene in range(genesPerCh):\n",
    "    if chromo_string[a:b] == '1111' or chromo_string[a:b] == '1110': \n",
    "      continue\n",
    "    elif chromo_string[a:b] != '1010' and chromo_string[a:b] != '1011' and chromo_string[a:b] != '1100' and chromo_string[a:b] != '1101':\n",
    "      if need_int == True:\n",
    "        protein += genetic_code[chromo_string[a:b]]\n",
    "        need_int = False\n",
    "        a += 4\n",
    "        b += 4\n",
    "        continue\n",
    "      else:\n",
    "        a += 4\n",
    "        b += 4\n",
    "        continue\n",
    "    else:\n",
    "      if need_int == False:\n",
    "        protein += genetic_code[chromo_string[a:b]]\n",
    "        need_int = True\n",
    "        a += 4\n",
    "        b += 4\n",
    "        continue\n",
    "      else:\n",
    "        a += 4\n",
    "        b += 4\n",
    "        continue\n",
    "  if len(protein) %2 == 0:\n",
    "    protein = protein[:-1]\n",
    "  return protein"
   ]
  },
  {
   "cell_type": "code",
   "execution_count": 6,
   "metadata": {
    "collapsed": true
   },
   "outputs": [],
   "source": [
    "\"\"\"Evaluates the mathematical expressions in number + operator blocks of two\"\"\"\n",
    "def evaluate(protein):\n",
    "  a = 3\n",
    "  b = 5\n",
    "  output = -1\n",
    "  lenprotein = len(protein) # i imagine this is quicker than calling len everytime?\n",
    "  if lenprotein == 0:\n",
    "    output = 0\n",
    "  if lenprotein == 1:\n",
    "    output = int(protein)\n",
    "  if lenprotein >= 3:\n",
    "    try :\n",
    "      output = eval(protein[0:3])\n",
    "    except ZeroDivisionError:\n",
    "      output = 0\n",
    "    if lenprotein > 4:\n",
    "      while b != lenprotein+2:\n",
    "        try :\n",
    "          output = eval(str(output)+protein[a:b])\n",
    "        except ZeroDivisionError:\n",
    "          output = 0\n",
    "        a+=2\n",
    "        b+=2  \n",
    "  return output"
   ]
  },
  {
   "cell_type": "code",
   "execution_count": 7,
   "metadata": {
    "collapsed": true
   },
   "outputs": [],
   "source": [
    "\"\"\"Calulates fitness as a fraction of the total fitness\"\"\"\n",
    "def calcFitness (errors):\n",
    "  fitnessScores = []\n",
    "  totalError = sum(errors)\n",
    "  i = 0\n",
    "  # fitness scores are a fraction of the total error\n",
    "  for error in errors:\n",
    "    fitnessScores.append (float(errors[i])/float(totalError))\n",
    "    i += 1\n",
    "  return fitnessScores"
   ]
  },
  {
   "cell_type": "code",
   "execution_count": 8,
   "metadata": {
    "collapsed": true
   },
   "outputs": [],
   "source": [
    "def displayFit (error):\n",
    "  bestFitDisplay = 100\n",
    "  dashesN = int(error * bestFitDisplay)\n",
    "  dashes = ''\n",
    "  for j in range(bestFitDisplay-dashesN):\n",
    "    dashes+=' '\n",
    "  for i in range(dashesN):\n",
    "    dashes+='+'\n",
    "  return dashes"
   ]
  },
  {
   "cell_type": "code",
   "execution_count": 17,
   "metadata": {
    "collapsed": false
   },
   "outputs": [],
   "source": [
    "\"\"\"Takes a population of chromosomes and returns a list of tuples where each chromo is paired to its fitness scores and ranked accroding to its fitness\"\"\"\n",
    "def rankPop (chromos):\n",
    "  proteins, outputs, errors = [], [], []\n",
    "  i = 1\n",
    "  # translate each chromo into mathematical expression (protein), evaluate the output of the expression,\n",
    "  # calculate the inverse error of the output\n",
    "  print('%s: %s\\t=%s \\t%s %s') %('n'.rjust(5), 'PROTEIN'.rjust(30), 'OUTPUT'.rjust(10), 'INVERSE ERROR'.rjust(17), 'GRAPHICAL INVERSE ERROR'.rjust(105))\n",
    "  for chromo in chromos: \n",
    "    protein = translate(chromo)\n",
    "    proteins.append(protein)\n",
    "    \n",
    "    output = evaluate(protein)\n",
    "    outputs.append(output)\n",
    "    \n",
    "    try:\n",
    "      error = 1/math.fabs(target-output)\n",
    "    except ZeroDivisionError:\n",
    "      global solution_found\n",
    "      solution_found = True\n",
    "      error = 0\n",
    "      print('\\nSOLUTION FOUND') \n",
    "      print('%s: %s \\t=%s %s') %(str(i).rjust(5), protein.rjust(30), str(output).rjust(10), displayFit(1.3).rjust(130))\n",
    "      break\n",
    "    else:\n",
    "      #error = 1/math.fabs(target-output)\n",
    "      errors.append(error)\n",
    "    print('%s: %s \\t=%s \\t%s %s') %(str(i).rjust(5), protein.rjust(30), str(output).rjust(10), str(error).rjust(17), displayFit(error).rjust(105))\n",
    "    i+=1  \n",
    "  fitnessScores = calcFitness (errors) # calc fitness scores from the erros calculated\n",
    "  pairedPop = zip ( chromos, proteins, outputs, fitnessScores) # pair each chromo with its protein, ouput and fitness score\n",
    "  rankedPop = sorted ( pairedPop,key = itemgetter(-1), reverse = True ) # sort the paired pop by ascending fitness score\n",
    "  return rankedPop"
   ]
  },
  {
   "cell_type": "code",
   "execution_count": 18,
   "metadata": {
    "collapsed": true
   },
   "outputs": [],
   "source": [
    "\"\"\" taking a ranked population selects two of the fittest members using roulette method\"\"\"\n",
    "def selectFittest (fitnessScores, rankedChromos):\n",
    "  while 1 == 1: # ensure that the chromosomes selected for breeding are have different indexes in the population\n",
    "    index1 = roulette (fitnessScores)\n",
    "    index2 = roulette (fitnessScores)\n",
    "    if index1 == index2:\n",
    "      continue\n",
    "    else:\n",
    "      break\n",
    "\n",
    "  \n",
    "  ch1 = rankedChromos[index1] # select  and return chromosomes for breeding \n",
    "  ch2 = rankedChromos[index2]\n",
    "  return ch1, ch2"
   ]
  },
  {
   "cell_type": "code",
   "execution_count": 19,
   "metadata": {
    "collapsed": true
   },
   "outputs": [],
   "source": [
    "\"\"\"Fitness scores are fractions, their sum = 1. Fitter chromosomes have a larger fraction.  \"\"\"\n",
    "def roulette (fitnessScores):\n",
    "  index = 0\n",
    "  cumalativeFitness = 0.0\n",
    "  r = random.random()\n",
    "  \n",
    "  for i in range(len(fitnessScores)): # for each chromosome's fitness score\n",
    "    cumalativeFitness += fitnessScores[i] # add each chromosome's fitness score to cumalative fitness\n",
    "\n",
    "    if cumalativeFitness > r: # in the event of cumalative fitness becoming greater than r, return index of that chromo\n",
    "      return i"
   ]
  },
  {
   "cell_type": "code",
   "execution_count": 20,
   "metadata": {
    "collapsed": true
   },
   "outputs": [],
   "source": [
    "def crossover (ch1, ch2):\n",
    "  # at a random chiasma\n",
    "  r = random.randint(0,genesPerCh*4)\n",
    "  return ch1[:r]+ch2[r:], ch2[:r]+ch1[r:]"
   ]
  },
  {
   "cell_type": "code",
   "execution_count": 21,
   "metadata": {
    "collapsed": true
   },
   "outputs": [],
   "source": [
    "def mutate (ch):\n",
    "  mutatedCh = []\n",
    "  for i in ch:\n",
    "    if random.random() < mutation_rate:\n",
    "      if i == 1:\n",
    "        mutatedCh.append(0)\n",
    "      else:\n",
    "        mutatedCh.append(1)\n",
    "    else:\n",
    "      mutatedCh.append(i)\n",
    "  #assert mutatedCh != ch\n",
    "  return mutatedCh"
   ]
  },
  {
   "cell_type": "code",
   "execution_count": 22,
   "metadata": {
    "collapsed": true
   },
   "outputs": [],
   "source": [
    "\"\"\"Using breed and mutate it generates two new chromos from the selected pair\"\"\"\n",
    "def breed (ch1, ch2):\n",
    "  \n",
    "  newCh1, newCh2 = [], []\n",
    "  if random.random() < crossover_rate: # rate dependent crossover of selected chromosomes\n",
    "    newCh1, newCh2 = crossover(ch1, ch2)\n",
    "  else:\n",
    "    newCh1, newCh2 = ch1, ch2\n",
    "  newnewCh1 = mutate (newCh1) # mutate crossovered chromos\n",
    "  newnewCh2 = mutate (newCh2)\n",
    "  \n",
    "  return newnewCh1, newnewCh2"
   ]
  },
  {
   "cell_type": "code",
   "execution_count": 26,
   "metadata": {
    "collapsed": true
   },
   "outputs": [],
   "source": [
    "\"\"\" Taking a ranked population return a new population by breeding the ranked one\"\"\"\n",
    "def iteratePop (rankedPop):\n",
    "  fitnessScores = [ item[-1] for item in rankedPop ] # extract fitness scores from ranked population\n",
    "  rankedChromos = [ item[0] for item in rankedPop ] # extract chromosomes from ranked population\n",
    "\n",
    "  newpop = []\n",
    "  newpop.extend(rankedChromos[:popN/15]) # known as elitism, conserve the best solutions to new population\n",
    "  \n",
    "  while len(newpop) != popN:\n",
    "    ch1, ch2 = [], []\n",
    "    ch1, ch2 = selectFittest (fitnessScores, rankedChromos) # select two of the fittest chromos\n",
    "        \n",
    "    ch1, ch2 = breed (ch1, ch2) # breed them to create two new chromosomes \n",
    "    newpop.append(ch1) # and append to new population\n",
    "    newpop.append(ch2)\n",
    "  return newpop\n",
    "  \n",
    "      \n",
    "def configureSettings ():\n",
    "  configure = input ('T - Enter Target Number \\tD - Default settings: ')\n",
    "  match1 = re.search( 't',configure, re.IGNORECASE )\n",
    "  if match1:\n",
    "    global target\n",
    "    target = input('Target int: ' )\n"
   ]
  },
  {
   "cell_type": "code",
   "execution_count": 24,
   "metadata": {
    "collapsed": true
   },
   "outputs": [],
   "source": [
    "def main(): \n",
    "  configureSettings ()\n",
    "  chromos = generatePop() #generate new population of random chromosomes\n",
    "  iterations = 0\n",
    "\n",
    "  while iterations != max_iterations and solution_found != True:\n",
    "    # take the pop of random chromos and rank them based on their fitness score/proximity to target output\n",
    "    rankedPop = rankPop(chromos) \n",
    "    \n",
    "    print('\\nCurrent iterations:', iterations)\n",
    "    \n",
    "    if solution_found != True:\n",
    "      # if solution is not found iterate a new population from previous ranked population\n",
    "      chromos = []\n",
    "      chromos = iteratePop(rankedPop)\n",
    "            \n",
    "      iterations += 1\n",
    "    else:\n",
    "      break"
   ]
  },
  {
   "cell_type": "code",
   "execution_count": 27,
   "metadata": {
    "collapsed": false
   },
   "outputs": [
    {
     "name": "stdout",
     "output_type": "stream",
     "text": [
      "T - Enter Target Number \tD - Default settings: 10\n",
      "%s: %s\t=%s \t%s %s\n"
     ]
    },
    {
     "ename": "TypeError",
     "evalue": "unsupported operand type(s) for %: 'NoneType' and 'tuple'",
     "output_type": "error",
     "traceback": [
      "\u001b[0;31m---------------------------------------------------------------------------\u001b[0m",
      "\u001b[0;31mTypeError\u001b[0m                                 Traceback (most recent call last)",
      "\u001b[0;32m<ipython-input-27-89026442c8a6>\u001b[0m in \u001b[0;36m<module>\u001b[0;34m()\u001b[0m\n\u001b[1;32m      1\u001b[0m \u001b[0;32mif\u001b[0m \u001b[0m__name__\u001b[0m \u001b[0;34m==\u001b[0m \u001b[0;34m\"__main__\"\u001b[0m\u001b[0;34m:\u001b[0m\u001b[0;34m\u001b[0m\u001b[0m\n\u001b[0;32m----> 2\u001b[0;31m     \u001b[0mmain\u001b[0m\u001b[0;34m(\u001b[0m\u001b[0;34m)\u001b[0m\u001b[0;34m\u001b[0m\u001b[0m\n\u001b[0m",
      "\u001b[0;32m<ipython-input-24-60334cfa502a>\u001b[0m in \u001b[0;36mmain\u001b[0;34m()\u001b[0m\n\u001b[1;32m      6\u001b[0m   \u001b[0;32mwhile\u001b[0m \u001b[0miterations\u001b[0m \u001b[0;34m!=\u001b[0m \u001b[0mmax_iterations\u001b[0m \u001b[0;32mand\u001b[0m \u001b[0msolution_found\u001b[0m \u001b[0;34m!=\u001b[0m \u001b[0;32mTrue\u001b[0m\u001b[0;34m:\u001b[0m\u001b[0;34m\u001b[0m\u001b[0m\n\u001b[1;32m      7\u001b[0m     \u001b[0;31m# take the pop of random chromos and rank them based on their fitness score/proximity to target output\u001b[0m\u001b[0;34m\u001b[0m\u001b[0;34m\u001b[0m\u001b[0m\n\u001b[0;32m----> 8\u001b[0;31m     \u001b[0mrankedPop\u001b[0m \u001b[0;34m=\u001b[0m \u001b[0mrankPop\u001b[0m\u001b[0;34m(\u001b[0m\u001b[0mchromos\u001b[0m\u001b[0;34m)\u001b[0m\u001b[0;34m\u001b[0m\u001b[0m\n\u001b[0m\u001b[1;32m      9\u001b[0m \u001b[0;34m\u001b[0m\u001b[0m\n\u001b[1;32m     10\u001b[0m     \u001b[0mprint\u001b[0m\u001b[0;34m(\u001b[0m\u001b[0;34m'\\nCurrent iterations:'\u001b[0m\u001b[0;34m,\u001b[0m \u001b[0miterations\u001b[0m\u001b[0;34m)\u001b[0m\u001b[0;34m\u001b[0m\u001b[0m\n",
      "\u001b[0;32m<ipython-input-17-facd6f632351>\u001b[0m in \u001b[0;36mrankPop\u001b[0;34m(chromos)\u001b[0m\n\u001b[1;32m      5\u001b[0m   \u001b[0;31m# translate each chromo into mathematical expression (protein), evaluate the output of the expression,\u001b[0m\u001b[0;34m\u001b[0m\u001b[0;34m\u001b[0m\u001b[0m\n\u001b[1;32m      6\u001b[0m   \u001b[0;31m# calculate the inverse error of the output\u001b[0m\u001b[0;34m\u001b[0m\u001b[0;34m\u001b[0m\u001b[0m\n\u001b[0;32m----> 7\u001b[0;31m   \u001b[0mprint\u001b[0m\u001b[0;34m(\u001b[0m\u001b[0;34m'%s: %s\\t=%s \\t%s %s'\u001b[0m\u001b[0;34m)\u001b[0m \u001b[0;34m%\u001b[0m\u001b[0;34m(\u001b[0m\u001b[0;34m'n'\u001b[0m\u001b[0;34m.\u001b[0m\u001b[0mrjust\u001b[0m\u001b[0;34m(\u001b[0m\u001b[0;36m5\u001b[0m\u001b[0;34m)\u001b[0m\u001b[0;34m,\u001b[0m \u001b[0;34m'PROTEIN'\u001b[0m\u001b[0;34m.\u001b[0m\u001b[0mrjust\u001b[0m\u001b[0;34m(\u001b[0m\u001b[0;36m30\u001b[0m\u001b[0;34m)\u001b[0m\u001b[0;34m,\u001b[0m \u001b[0;34m'OUTPUT'\u001b[0m\u001b[0;34m.\u001b[0m\u001b[0mrjust\u001b[0m\u001b[0;34m(\u001b[0m\u001b[0;36m10\u001b[0m\u001b[0;34m)\u001b[0m\u001b[0;34m,\u001b[0m \u001b[0;34m'INVERSE ERROR'\u001b[0m\u001b[0;34m.\u001b[0m\u001b[0mrjust\u001b[0m\u001b[0;34m(\u001b[0m\u001b[0;36m17\u001b[0m\u001b[0;34m)\u001b[0m\u001b[0;34m,\u001b[0m \u001b[0;34m'GRAPHICAL INVERSE ERROR'\u001b[0m\u001b[0;34m.\u001b[0m\u001b[0mrjust\u001b[0m\u001b[0;34m(\u001b[0m\u001b[0;36m105\u001b[0m\u001b[0;34m)\u001b[0m\u001b[0;34m)\u001b[0m\u001b[0;34m\u001b[0m\u001b[0m\n\u001b[0m\u001b[1;32m      8\u001b[0m   \u001b[0;32mfor\u001b[0m \u001b[0mchromo\u001b[0m \u001b[0;32min\u001b[0m \u001b[0mchromos\u001b[0m\u001b[0;34m:\u001b[0m\u001b[0;34m\u001b[0m\u001b[0m\n\u001b[1;32m      9\u001b[0m     \u001b[0mprotein\u001b[0m \u001b[0;34m=\u001b[0m \u001b[0mtranslate\u001b[0m\u001b[0;34m(\u001b[0m\u001b[0mchromo\u001b[0m\u001b[0;34m)\u001b[0m\u001b[0;34m\u001b[0m\u001b[0m\n",
      "\u001b[0;31mTypeError\u001b[0m: unsupported operand type(s) for %: 'NoneType' and 'tuple'"
     ]
    }
   ],
   "source": [
    "if __name__ == \"__main__\":\n",
    "    main()"
   ]
  },
  {
   "cell_type": "code",
   "execution_count": null,
   "metadata": {
    "collapsed": true
   },
   "outputs": [],
   "source": []
  }
 ],
 "metadata": {
  "kernelspec": {
   "display_name": "Python [default]",
   "language": "python",
   "name": "python3"
  },
  "language_info": {
   "codemirror_mode": {
    "name": "ipython",
    "version": 3
   },
   "file_extension": ".py",
   "mimetype": "text/x-python",
   "name": "python",
   "nbconvert_exporter": "python",
   "pygments_lexer": "ipython3",
   "version": "3.5.2"
  }
 },
 "nbformat": 4,
 "nbformat_minor": 2
}
