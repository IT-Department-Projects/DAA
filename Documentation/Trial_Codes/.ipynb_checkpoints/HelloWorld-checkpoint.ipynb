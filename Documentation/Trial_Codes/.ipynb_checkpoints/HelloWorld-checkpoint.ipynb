{
 "cells": [
  {
   "cell_type": "code",
   "execution_count": 2,
   "metadata": {
    "collapsed": false
   },
   "outputs": [],
   "source": [
    "#Import libraries\n",
    "import datetime\n",
    "import random"
   ]
  },
  {
   "cell_type": "code",
   "execution_count": 3,
   "metadata": {
    "collapsed": true
   },
   "outputs": [],
   "source": [
    "geneSet = \" abcdefghijklmnopqrstuvwxyzABCDEFGHIJKLMNOPQRSTUVWXYZ!.\"\n",
    "target = \"Hello World!\""
   ]
  },
  {
   "cell_type": "code",
   "execution_count": 4,
   "metadata": {
    "collapsed": true
   },
   "outputs": [],
   "source": [
    "def generate_parent(length):\n",
    "\tgenes = []\n",
    "\twhile len(genes) < length:\n",
    "\t\tsampleSize = min(length - len(genes), len(geneSet))\n",
    "\t\tgenes.extend(random.sample(geneSet, sampleSize))\n",
    "\treturn ''.join(genes)"
   ]
  },
  {
   "cell_type": "code",
   "execution_count": 5,
   "metadata": {
    "collapsed": true
   },
   "outputs": [],
   "source": [
    "def get_fitness(guess):\n",
    "\treturn sum(1 for expected, actual in zip(target, guess) if expected == actual)"
   ]
  },
  {
   "cell_type": "code",
   "execution_count": 6,
   "metadata": {
    "collapsed": true
   },
   "outputs": [],
   "source": [
    "def mutate(parent):\n",
    "\tindex = random.randrange(0, len(parent))\n",
    "\tchildGenes = list(parent)\n",
    "\tnewGene, alternate = random.sample(geneSet, 2)\n",
    "\tchildGenes[index] = alternate \\\n",
    "\t\tif newGene == childGenes[index] \\\n",
    "\t\telse newGene\n",
    "\treturn ''.join(childGenes)"
   ]
  },
  {
   "cell_type": "code",
   "execution_count": 10,
   "metadata": {
    "collapsed": true
   },
   "outputs": [],
   "source": [
    "def display(guess):\n",
    "    timeDiff = datetime.datetime.now() - startTime\n",
    "    fitness = get_fitness(guess)\n",
    "    print(\"{0}\\t{1}\\t{2}\".format(guess, fitness, str(timeDiff)))\n",
    "    "
   ]
  },
  {
   "cell_type": "code",
   "execution_count": 11,
   "metadata": {
    "collapsed": false
   },
   "outputs": [
    {
     "name": "stdout",
     "output_type": "stream",
     "text": [
      "V DFBTzqvPHe\t0\t0:00:00.000406\n",
      "V lFBTzqvPHe\t1\t0:00:00.001942\n",
      "V lFBTzqvPde\t2\t0:00:00.005026\n",
      "V lFBTzqvPd!\t3\t0:00:00.005904\n",
      "V lFoTzqvPd!\t4\t0:00:00.008737\n",
      "V lFoTzqrPd!\t5\t0:00:00.009647\n",
      "V lFoTWqrPd!\t6\t0:00:00.016870\n",
      "V lFoTWqrld!\t7\t0:00:00.023526\n",
      "V lFoTWorld!\t8\t0:00:00.034224\n",
      "V lloTWorld!\t9\t0:00:00.038489\n",
      "V llo World!\t10\t0:00:00.039692\n",
      "Vello World!\t11\t0:00:00.049505\n",
      "Hello World!\t12\t0:00:00.052679\n"
     ]
    }
   ],
   "source": [
    "random.seed()\n",
    "startTime = datetime.datetime.now()\n",
    "bestParent = generate_parent(len(target))\n",
    "bestFitness = get_fitness(bestParent)\n",
    "display(bestParent)\n",
    "\n",
    "while True:\n",
    "    child = mutate(bestParent)\n",
    "    childFitness = get_fitness(child)\n",
    "\n",
    "    if bestFitness >= childFitness:\n",
    "        continue\n",
    "    display(child)\n",
    "    if childFitness >= len(bestParent):\n",
    "        break\n",
    "    bestFitness = childFitness\n",
    "    bestParent = child"
   ]
  }
 ],
 "metadata": {
  "kernelspec": {
   "display_name": "Python [default]",
   "language": "python",
   "name": "python3"
  },
  "language_info": {
   "codemirror_mode": {
    "name": "ipython",
    "version": 3
   },
   "file_extension": ".py",
   "mimetype": "text/x-python",
   "name": "python",
   "nbconvert_exporter": "python",
   "pygments_lexer": "ipython3",
   "version": "3.5.2"
  }
 },
 "nbformat": 4,
 "nbformat_minor": 2
}
